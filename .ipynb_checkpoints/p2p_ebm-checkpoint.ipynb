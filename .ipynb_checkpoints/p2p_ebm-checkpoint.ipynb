{
 "cells": [
  {
   "cell_type": "code",
   "execution_count": 2,
   "id": "6ef5024b",
   "metadata": {},
   "outputs": [],
   "source": [
    "import pandas as pd\n",
    "import seaborn as sns\n",
    "import numpy as np\n",
    "import warnings\n",
    "warnings.filterwarnings(\"ignore\")"
   ]
  },
  {
   "cell_type": "code",
   "execution_count": 3,
   "id": "6785de70",
   "metadata": {},
   "outputs": [],
   "source": [
    "df=pd.read_csv(\"C:\\\\Users\\\\Sarrang\\\\p2p\\\\treated.csv\")"
   ]
  },
  {
   "cell_type": "code",
   "execution_count": 4,
   "id": "1c908654",
   "metadata": {},
   "outputs": [
    {
     "data": {
      "text/plain": [
       "(176563, 88)"
      ]
     },
     "execution_count": 4,
     "metadata": {},
     "output_type": "execute_result"
    }
   ],
   "source": [
    "df.shape"
   ]
  },
  {
   "cell_type": "code",
   "execution_count": 5,
   "id": "eb6830da",
   "metadata": {},
   "outputs": [
    {
     "data": {
      "text/plain": [
       "41"
      ]
     },
     "execution_count": 5,
     "metadata": {},
     "output_type": "execute_result"
    }
   ],
   "source": [
    "df.columns.get_loc('ProbabilityOfDefault')\n",
    "df.columns.get_loc('Rating')\n"
   ]
  },
  {
   "cell_type": "code",
   "execution_count": 6,
   "id": "b7e48cbc",
   "metadata": {},
   "outputs": [],
   "source": [
    "# Assuming df is your DataFrame\n",
    "# You want to exclude columns 38 and 41\n",
    "\n",
    "# Get all column indices\n",
    "all_columns = list(range(df.shape[1]))\n",
    "\n",
    "# Exclude columns 38 and 41 which are probability of default and rating\n",
    "exclude_columns = [38, 41]\n",
    "included_columns = [col_idx for col_idx in all_columns if col_idx not in exclude_columns]\n",
    "\n",
    "# Select columns using iloc\n",
    "# X= df.iloc[:, included_columns].values\n",
    "X= df.iloc[:, included_columns]\n",
    "df_idx=df.iloc[:, included_columns]"
   ]
  },
  {
   "cell_type": "markdown",
   "id": "24becbd4",
   "metadata": {},
   "source": [
    "### experimenting with rating as dependent variable "
   ]
  },
  {
   "cell_type": "code",
   "execution_count": 7,
   "id": "dd3a80fe",
   "metadata": {},
   "outputs": [],
   "source": [
    "# y=df.iloc[:,38].values\n",
    "y=df.iloc[:,41]"
   ]
  },
  {
   "cell_type": "code",
   "execution_count": 8,
   "id": "b5cc3c38",
   "metadata": {},
   "outputs": [],
   "source": [
    " # excluded 'ProbabilityOfDefault'\n",
    "numerical=['BidsManual',\n",
    " 'AppliedAmount',\n",
    " 'Amount',\n",
    " 'Interest',\n",
    " 'MonthlyPayment',\n",
    " 'OccupationArea',\n",
    " 'HomeOwnershipType',\n",
    " 'IncomeFromPrincipalEmployer',\n",
    " 'IncomeFromPension',\n",
    " 'IncomeFromFamilyAllowance',\n",
    " 'IncomeFromSocialWelfare',\n",
    " 'IncomeFromLeavePay',\n",
    " 'IncomeFromChildSupport',\n",
    " 'IncomeOther',\n",
    " 'IncomeTotal',\n",
    " 'LiabilitiesTotal',\n",
    " 'DebtToIncome',\n",
    " 'FreeCash',\n",
    " 'LossGivenDefault',\n",
    " 'ExpectedReturn',\n",
    " 'PrincipalOverdueBySchedule',\n",
    " 'PrincipalPaymentsMade',\n",
    " 'InterestAndPenaltyPaymentsMade',\n",
    " 'PrincipalBalance',\n",
    " 'InterestAndPenaltyBalance',\n",
    " 'NoOfPreviousLoansBeforeLoan',\n",
    " 'AmountOfPreviousLoansBeforeLoan',\n",
    " 'PreviousEarlyRepaymentsCountBeforeLoan',\n",
    " 'ApplicationSignedHour',\n",
    " 'ApplicationSignedWeekday',\n",
    " 'LanguageCode',\n",
    " 'Age',\n",
    " 'LoanDuration',\n",
    " 'UseOfLoan',\n",
    " 'ExistingLiabilities',\n",
    " 'RefinanceLiabilities',\n",
    " 'MonthlyPaymentDay',\n",
    " 'CreditScoreEsMicroL',\n",
    " 'LoanWaitTime',\n",
    " 'PaymentToLoanDateDiff',\n",
    " 'LoanTerm']"
   ]
  },
  {
   "cell_type": "code",
   "execution_count": 9,
   "id": "819bf218",
   "metadata": {},
   "outputs": [],
   "source": [
    "nloc = []\n",
    "\n",
    "for feature in numerical:\n",
    "    try:\n",
    "        idx = X.columns.get_loc(feature)\n",
    "        nloc.append(idx)\n",
    "    except ValueError:\n",
    "        print(f\"Column '{feature}' not found in X columns.\")\n"
   ]
  },
  {
   "cell_type": "code",
   "execution_count": 10,
   "id": "3fb41318",
   "metadata": {},
   "outputs": [],
   "source": [
    "X=X.values\n",
    "y=y.values"
   ]
  },
  {
   "cell_type": "markdown",
   "id": "b64970e0",
   "metadata": {
    "colab_type": "text",
    "id": "qb_vcgm3qZKW"
   },
   "source": [
    "## Splitting the dataset into the Training set and Test set"
   ]
  },
  {
   "cell_type": "code",
   "execution_count": 11,
   "id": "d5463ec5",
   "metadata": {
    "colab": {},
    "colab_type": "code",
    "id": "pXgA6CzlqbCl"
   },
   "outputs": [],
   "source": [
    "from sklearn.model_selection import train_test_split\n",
    "X_train, X_test, y_train, y_test = train_test_split(X, y, test_size = 0.3, random_state = 1)"
   ]
  },
  {
   "cell_type": "code",
   "execution_count": 12,
   "id": "eafcca03",
   "metadata": {},
   "outputs": [],
   "source": [
    "from sklearn.preprocessing import PowerTransformer\n",
    "\n",
    "# Initialize PowerTransformer\n",
    "power_transformer = PowerTransformer()\n",
    "\n",
    "# Fit the transformer on training data and transform training data\n",
    "X_train[:, nloc] = power_transformer.fit_transform(X_train[:, nloc])\n",
    "\n",
    "# Transform testing data using the fitted transformer from training data\n",
    "X_test[:, nloc] = power_transformer.transform(X_test[:, nloc])\n"
   ]
  },
  {
   "cell_type": "code",
   "execution_count": 18,
   "id": "e96e8714",
   "metadata": {},
   "outputs": [
    {
     "data": {
      "text/html": [
       "<style>#sk-container-id-1 {color: black;background-color: white;}#sk-container-id-1 pre{padding: 0;}#sk-container-id-1 div.sk-toggleable {background-color: white;}#sk-container-id-1 label.sk-toggleable__label {cursor: pointer;display: block;width: 100%;margin-bottom: 0;padding: 0.3em;box-sizing: border-box;text-align: center;}#sk-container-id-1 label.sk-toggleable__label-arrow:before {content: \"▸\";float: left;margin-right: 0.25em;color: #696969;}#sk-container-id-1 label.sk-toggleable__label-arrow:hover:before {color: black;}#sk-container-id-1 div.sk-estimator:hover label.sk-toggleable__label-arrow:before {color: black;}#sk-container-id-1 div.sk-toggleable__content {max-height: 0;max-width: 0;overflow: hidden;text-align: left;background-color: #f0f8ff;}#sk-container-id-1 div.sk-toggleable__content pre {margin: 0.2em;color: black;border-radius: 0.25em;background-color: #f0f8ff;}#sk-container-id-1 input.sk-toggleable__control:checked~div.sk-toggleable__content {max-height: 200px;max-width: 100%;overflow: auto;}#sk-container-id-1 input.sk-toggleable__control:checked~label.sk-toggleable__label-arrow:before {content: \"▾\";}#sk-container-id-1 div.sk-estimator input.sk-toggleable__control:checked~label.sk-toggleable__label {background-color: #d4ebff;}#sk-container-id-1 div.sk-label input.sk-toggleable__control:checked~label.sk-toggleable__label {background-color: #d4ebff;}#sk-container-id-1 input.sk-hidden--visually {border: 0;clip: rect(1px 1px 1px 1px);clip: rect(1px, 1px, 1px, 1px);height: 1px;margin: -1px;overflow: hidden;padding: 0;position: absolute;width: 1px;}#sk-container-id-1 div.sk-estimator {font-family: monospace;background-color: #f0f8ff;border: 1px dotted black;border-radius: 0.25em;box-sizing: border-box;margin-bottom: 0.5em;}#sk-container-id-1 div.sk-estimator:hover {background-color: #d4ebff;}#sk-container-id-1 div.sk-parallel-item::after {content: \"\";width: 100%;border-bottom: 1px solid gray;flex-grow: 1;}#sk-container-id-1 div.sk-label:hover label.sk-toggleable__label {background-color: #d4ebff;}#sk-container-id-1 div.sk-serial::before {content: \"\";position: absolute;border-left: 1px solid gray;box-sizing: border-box;top: 0;bottom: 0;left: 50%;z-index: 0;}#sk-container-id-1 div.sk-serial {display: flex;flex-direction: column;align-items: center;background-color: white;padding-right: 0.2em;padding-left: 0.2em;position: relative;}#sk-container-id-1 div.sk-item {position: relative;z-index: 1;}#sk-container-id-1 div.sk-parallel {display: flex;align-items: stretch;justify-content: center;background-color: white;position: relative;}#sk-container-id-1 div.sk-item::before, #sk-container-id-1 div.sk-parallel-item::before {content: \"\";position: absolute;border-left: 1px solid gray;box-sizing: border-box;top: 0;bottom: 0;left: 50%;z-index: -1;}#sk-container-id-1 div.sk-parallel-item {display: flex;flex-direction: column;z-index: 1;position: relative;background-color: white;}#sk-container-id-1 div.sk-parallel-item:first-child::after {align-self: flex-end;width: 50%;}#sk-container-id-1 div.sk-parallel-item:last-child::after {align-self: flex-start;width: 50%;}#sk-container-id-1 div.sk-parallel-item:only-child::after {width: 0;}#sk-container-id-1 div.sk-dashed-wrapped {border: 1px dashed gray;margin: 0 0.4em 0.5em 0.4em;box-sizing: border-box;padding-bottom: 0.4em;background-color: white;}#sk-container-id-1 div.sk-label label {font-family: monospace;font-weight: bold;display: inline-block;line-height: 1.2em;}#sk-container-id-1 div.sk-label-container {text-align: center;}#sk-container-id-1 div.sk-container {/* jupyter's `normalize.less` sets `[hidden] { display: none; }` but bootstrap.min.css set `[hidden] { display: none !important; }` so we also need the `!important` here to be able to override the default hidden behavior on the sphinx rendered scikit-learn.org. See: https://github.com/scikit-learn/scikit-learn/issues/21755 */display: inline-block !important;position: relative;}#sk-container-id-1 div.sk-text-repr-fallback {display: none;}</style><div id=\"sk-container-id-1\" class=\"sk-top-container\"><div class=\"sk-text-repr-fallback\"><pre>ExplainableBoostingClassifier()</pre><b>In a Jupyter environment, please rerun this cell to show the HTML representation or trust the notebook. <br />On GitHub, the HTML representation is unable to render, please try loading this page with nbviewer.org.</b></div><div class=\"sk-container\" hidden><div class=\"sk-item\"><div class=\"sk-estimator sk-toggleable\"><input class=\"sk-toggleable__control sk-hidden--visually\" id=\"sk-estimator-id-1\" type=\"checkbox\" checked><label for=\"sk-estimator-id-1\" class=\"sk-toggleable__label sk-toggleable__label-arrow\">ExplainableBoostingClassifier</label><div class=\"sk-toggleable__content\"><pre>ExplainableBoostingClassifier()</pre></div></div></div></div></div>"
      ],
      "text/plain": [
       "ExplainableBoostingClassifier()"
      ]
     },
     "execution_count": 18,
     "metadata": {},
     "output_type": "execute_result"
    }
   ],
   "source": [
    "from interpret.glassbox import ExplainableBoostingClassifier\n",
    "ebm=ExplainableBoostingClassifier()\n",
    "ebm.fit(X_train,y_train)"
   ]
  },
  {
   "cell_type": "code",
   "execution_count": null,
   "id": "b639b211",
   "metadata": {},
   "outputs": [],
   "source": [
    "from skopt import BayesSearchCV\n",
    "from skopt.space import Real, Integer\n",
    "from interpret.glassbox import ExplainableBoostingClassifier\n",
    "\n",
    "# Define the hyperparameter search space\n",
    "param_space = {\n",
    "    'max_bins': Integer(20, 255),\n",
    "    'max_interaction_bins': Integer(5, 20),\n",
    "    'interactions': Integer(5, 20),\n",
    "    'outer_bags': Integer(2, 10),\n",
    "    'inner_bags': Integer(0, 5),\n",
    "    'learning_rate': Real(0.001, 0.1, 'log-uniform')\n",
    "}\n",
    "\n",
    "# Instantiate ExplainableBoostingClassifier\n",
    "ebm = ExplainableBoostingClassifier()\n",
    "\n",
    "# Instantiate BayesSearchCV\n",
    "opt = BayesSearchCV(\n",
    "    ebm,\n",
    "    search_spaces=param_space,\n",
    "    scoring='accuracy',  # Change the scoring metric\n",
    "    cv=3,\n",
    "    n_iter=100,  # Number of hyperparameter configurations to try\n",
    "    n_jobs=-1\n",
    ")\n",
    "\n",
    "# Perform hyperparameter tuning\n",
    "opt.fit(X_train, y_train)\n",
    "\n",
    "# Get best parameters and best model\n",
    "best_params = opt.best_params_\n",
    "best_model = opt.best_estimator_\n",
    "\n",
    "print(\"Best Parameters:\", best_params)\n",
    "print(\"Best Model:\", best_model)\n"
   ]
  },
  {
   "cell_type": "code",
   "execution_count": 19,
   "id": "c57511c3",
   "metadata": {},
   "outputs": [],
   "source": [
    "# y_pred=xgb.predict(X_test)\n",
    "y_pred=ebm.predict(X_test)"
   ]
  },
  {
   "cell_type": "code",
   "execution_count": 20,
   "id": "a62713b9",
   "metadata": {},
   "outputs": [
    {
     "name": "stdout",
     "output_type": "stream",
     "text": [
      "              precision    recall  f1-score   support\n",
      "\n",
      "           0       0.81      0.85      0.83      2161\n",
      "           1       0.91      0.89      0.90      2006\n",
      "           2       0.92      0.91      0.92      6819\n",
      "           3       0.88      0.88      0.88      9009\n",
      "           4       0.88      0.87      0.88     11124\n",
      "           5       0.90      0.89      0.89     10001\n",
      "           6       0.92      0.93      0.92      7494\n",
      "           7       0.95      0.97      0.96      4355\n",
      "\n",
      "    accuracy                           0.90     52969\n",
      "   macro avg       0.90      0.90      0.90     52969\n",
      "weighted avg       0.90      0.90      0.90     52969\n",
      "\n"
     ]
    }
   ],
   "source": [
    "from sklearn.metrics import classification_report\n",
    "print(classification_report(y_pred,y_test))"
   ]
  },
  {
   "cell_type": "code",
   "execution_count": null,
   "id": "1e2fff70",
   "metadata": {},
   "outputs": [],
   "source": []
  }
 ],
 "metadata": {
  "kernelspec": {
   "display_name": "Python 3 (ipykernel)",
   "language": "python",
   "name": "python3"
  },
  "language_info": {
   "codemirror_mode": {
    "name": "ipython",
    "version": 3
   },
   "file_extension": ".py",
   "mimetype": "text/x-python",
   "name": "python",
   "nbconvert_exporter": "python",
   "pygments_lexer": "ipython3",
   "version": "3.11.5"
  }
 },
 "nbformat": 4,
 "nbformat_minor": 5
}
