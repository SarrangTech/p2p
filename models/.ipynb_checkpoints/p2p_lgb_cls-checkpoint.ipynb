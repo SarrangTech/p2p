{
 "cells": [
  {
   "cell_type": "code",
   "execution_count": 1,
   "id": "ea1841b1",
   "metadata": {},
   "outputs": [],
   "source": [
    "import pandas as pd\n",
    "import seaborn as sns\n",
    "import numpy as np\n",
    "import warnings\n",
    "warnings.filterwarnings(\"ignore\")"
   ]
  },
  {
   "cell_type": "code",
   "execution_count": 2,
   "id": "a4a07768",
   "metadata": {},
   "outputs": [],
   "source": [
    "df=pd.read_csv(\"C:\\\\Users\\\\Sarrang\\\\p2p\\\\treated.csv\")"
   ]
  },
  {
   "cell_type": "code",
   "execution_count": 3,
   "id": "34710a09",
   "metadata": {},
   "outputs": [
    {
     "data": {
      "text/plain": [
       "(176563, 88)"
      ]
     },
     "execution_count": 3,
     "metadata": {},
     "output_type": "execute_result"
    }
   ],
   "source": [
    "df.shape"
   ]
  },
  {
   "cell_type": "code",
   "execution_count": 4,
   "id": "ca0eec6e",
   "metadata": {},
   "outputs": [
    {
     "data": {
      "text/plain": [
       "41"
      ]
     },
     "execution_count": 4,
     "metadata": {},
     "output_type": "execute_result"
    }
   ],
   "source": [
    "\n",
    "df.columns.get_loc('Rating')"
   ]
  },
  {
   "cell_type": "code",
   "execution_count": 5,
   "id": "841f8a5e",
   "metadata": {},
   "outputs": [],
   "source": [
    "# Assuming df is your DataFrame\n",
    "# You want to exclude columns 38 and 41\n",
    "\n",
    "# Get all column indices\n",
    "all_columns = list(range(df.shape[1]))\n",
    "\n",
    "# Exclude columns 38 and 41 which are probability of default and rating\n",
    "exclude_columns = [38, 41]\n",
    "included_columns = [col_idx for col_idx in all_columns if col_idx not in exclude_columns]\n",
    "\n",
    "# Select columns using iloc\n",
    "# X= df.iloc[:, included_columns].values\n",
    "X= df.iloc[:, included_columns]\n",
    "df_idx=df.iloc[:, included_columns]"
   ]
  },
  {
   "cell_type": "markdown",
   "id": "a769ba8a",
   "metadata": {},
   "source": [
    "### experimenting with rating as dependent variable "
   ]
  },
  {
   "cell_type": "code",
   "execution_count": 6,
   "id": "457995e3",
   "metadata": {},
   "outputs": [],
   "source": [
    "# y=df.iloc[:,38].values\n",
    "y=df.iloc[:,41]"
   ]
  },
  {
   "cell_type": "code",
   "execution_count": 7,
   "id": "644695c5",
   "metadata": {},
   "outputs": [],
   "source": [
    " # excluded 'ProbabilityOfDefault'\n",
    "numerical=['BidsManual',\n",
    " 'AppliedAmount',\n",
    " 'Amount',\n",
    " 'Interest',\n",
    " 'MonthlyPayment',\n",
    " 'OccupationArea',\n",
    " 'HomeOwnershipType',\n",
    " 'IncomeFromPrincipalEmployer',\n",
    " 'IncomeFromPension',\n",
    " 'IncomeFromFamilyAllowance',\n",
    " 'IncomeFromSocialWelfare',\n",
    " 'IncomeFromLeavePay',\n",
    " 'IncomeFromChildSupport',\n",
    " 'IncomeOther',\n",
    " 'IncomeTotal',\n",
    " 'LiabilitiesTotal',\n",
    " 'DebtToIncome',\n",
    " 'FreeCash',\n",
    " 'LossGivenDefault',\n",
    " 'ExpectedReturn',\n",
    " 'PrincipalOverdueBySchedule',\n",
    " 'PrincipalPaymentsMade',\n",
    " 'InterestAndPenaltyPaymentsMade',\n",
    " 'PrincipalBalance',\n",
    " 'InterestAndPenaltyBalance',\n",
    " 'NoOfPreviousLoansBeforeLoan',\n",
    " 'AmountOfPreviousLoansBeforeLoan',\n",
    " 'PreviousEarlyRepaymentsCountBeforeLoan',\n",
    " 'ApplicationSignedHour',\n",
    " 'ApplicationSignedWeekday',\n",
    " 'LanguageCode',\n",
    " 'Age',\n",
    " 'LoanDuration',\n",
    " 'UseOfLoan',\n",
    " 'ExistingLiabilities',\n",
    " 'RefinanceLiabilities',\n",
    " 'MonthlyPaymentDay',\n",
    " 'CreditScoreEsMicroL',\n",
    " 'LoanWaitTime',\n",
    " 'PaymentToLoanDateDiff',\n",
    " 'LoanTerm']"
   ]
  },
  {
   "cell_type": "code",
   "execution_count": 8,
   "id": "508d0bbc",
   "metadata": {},
   "outputs": [],
   "source": [
    "nloc = []\n",
    "\n",
    "for feature in numerical:\n",
    "    try:\n",
    "        idx = X.columns.get_loc(feature)\n",
    "        nloc.append(idx)\n",
    "    except ValueError:\n",
    "        print(f\"Column '{feature}' not found in X columns.\")\n"
   ]
  },
  {
   "cell_type": "code",
   "execution_count": 9,
   "id": "3774c2ae",
   "metadata": {},
   "outputs": [],
   "source": [
    "X=X.values\n",
    "y=y.values"
   ]
  },
  {
   "cell_type": "markdown",
   "id": "da07b47a",
   "metadata": {
    "colab_type": "text",
    "id": "qb_vcgm3qZKW"
   },
   "source": [
    "## Splitting the dataset into the Training set and Test set"
   ]
  },
  {
   "cell_type": "code",
   "execution_count": 10,
   "id": "b605217e",
   "metadata": {
    "colab": {},
    "colab_type": "code",
    "id": "pXgA6CzlqbCl"
   },
   "outputs": [],
   "source": [
    "from sklearn.model_selection import train_test_split\n",
    "X_train, X_test, y_train, y_test = train_test_split(X, y, test_size = 0.3, random_state = 1)"
   ]
  },
  {
   "cell_type": "code",
   "execution_count": 11,
   "id": "4573dfc5",
   "metadata": {},
   "outputs": [],
   "source": [
    "from sklearn.preprocessing import PowerTransformer\n",
    "\n",
    "# Initialize PowerTransformer\n",
    "power_transformer = PowerTransformer()\n",
    "\n",
    "# Fit the transformer on training data and transform training data\n",
    "X_train[:, nloc] = power_transformer.fit_transform(X_train[:, nloc])\n",
    "\n",
    "# Transform testing data using the fitted transformer from training data\n",
    "X_test[:, nloc] = power_transformer.transform(X_test[:, nloc])\n"
   ]
  },
  {
   "cell_type": "code",
   "execution_count": 12,
   "id": "c7278da9",
   "metadata": {},
   "outputs": [
    {
     "name": "stdout",
     "output_type": "stream",
     "text": [
      "[LightGBM] [Info] Auto-choosing row-wise multi-threading, the overhead of testing was 0.028272 seconds.\n",
      "You can set `force_row_wise=true` to remove the overhead.\n",
      "And if memory is not enough, you can set `force_col_wise=true`.\n",
      "[LightGBM] [Info] Total Bins 5394\n",
      "[LightGBM] [Info] Number of data points in the train set: 123594, number of used features: 86\n",
      "[LightGBM] [Info] Start training from score -3.152887\n",
      "[LightGBM] [Info] Start training from score -3.287040\n",
      "[LightGBM] [Info] Start training from score -2.057689\n",
      "[LightGBM] [Info] Start training from score -1.784697\n",
      "[LightGBM] [Info] Start training from score -1.562219\n",
      "[LightGBM] [Info] Start training from score -1.677906\n",
      "[LightGBM] [Info] Start training from score -1.939378\n",
      "[LightGBM] [Info] Start training from score -2.475966\n",
      "[LightGBM] [Warning] No further splits with positive gain, best gain: -inf\n",
      "[LightGBM] [Warning] No further splits with positive gain, best gain: -inf\n",
      "[LightGBM] [Warning] No further splits with positive gain, best gain: -inf\n",
      "[LightGBM] [Warning] No further splits with positive gain, best gain: -inf\n",
      "[LightGBM] [Warning] No further splits with positive gain, best gain: -inf\n",
      "[LightGBM] [Warning] No further splits with positive gain, best gain: -inf\n",
      "[LightGBM] [Warning] No further splits with positive gain, best gain: -inf\n",
      "[LightGBM] [Warning] No further splits with positive gain, best gain: -inf\n",
      "[LightGBM] [Warning] No further splits with positive gain, best gain: -inf\n",
      "[LightGBM] [Warning] No further splits with positive gain, best gain: -inf\n",
      "[LightGBM] [Warning] No further splits with positive gain, best gain: -inf\n",
      "[LightGBM] [Warning] No further splits with positive gain, best gain: -inf\n",
      "[LightGBM] [Warning] No further splits with positive gain, best gain: -inf\n",
      "[LightGBM] [Warning] No further splits with positive gain, best gain: -inf\n",
      "[LightGBM] [Warning] No further splits with positive gain, best gain: -inf\n",
      "Best Parameters: OrderedDict([('colsample_bytree', 0.6142700250065638), ('learning_rate', 0.09508495966850976), ('max_depth', 7), ('min_child_samples', 7), ('n_estimators', 193), ('num_leaves', 30), ('reg_alpha', 0.6244710060826602), ('reg_lambda', 0.8948629806624643), ('subsample', 0.9609173383789583)])\n",
      "Best Model: LGBMClassifier(colsample_bytree=0.6142700250065638,\n",
      "               learning_rate=0.09508495966850976, max_depth=7,\n",
      "               min_child_samples=7, n_estimators=193, num_leaves=30,\n",
      "               reg_alpha=0.6244710060826602, reg_lambda=0.8948629806624643,\n",
      "               subsample=0.9609173383789583)\n"
     ]
    }
   ],
   "source": [
    "from skopt import BayesSearchCV\n",
    "from skopt.space import Real, Integer\n",
    "from lightgbm import LGBMClassifier\n",
    "\n",
    "# Define the hyperparameter search space\n",
    "param_space = {\n",
    "    'num_leaves': Integer(20, 50),\n",
    "    'max_depth': Integer(3, 10),\n",
    "    'learning_rate': Real(0.001, 0.1, 'log-uniform'),\n",
    "    'n_estimators': Integer(50, 200),\n",
    "    'min_child_samples': Integer(5, 20),\n",
    "    'subsample': Real(0.5, 1.0, 'uniform'),\n",
    "    'colsample_bytree': Real(0.5, 1.0, 'uniform'),\n",
    "    'reg_alpha': Real(0.0, 1.0, 'uniform'),\n",
    "    'reg_lambda': Real(0.0, 1.0, 'uniform')\n",
    "}\n",
    "\n",
    "# Instantiate LGBMClassifier\n",
    "lgbm_clf = LGBMClassifier()\n",
    "\n",
    "# Instantiate BayesSearchCV with Hyperband optimization\n",
    "opt = BayesSearchCV(\n",
    "    lgbm_clf,\n",
    "    search_spaces=param_space,\n",
    "    scoring='accuracy',  # Change the scoring metric to suit classification\n",
    "    cv=3,\n",
    "    n_iter=100,  # Number of hyperparameter configurations to try\n",
    "    n_jobs=-1,\n",
    "    optimizer_kwargs={'base_estimator': 'RF', 'n_initial_points': 10}\n",
    ")\n",
    "\n",
    "# Perform hyperparameter tuning\n",
    "opt.fit(X_train, y_train)\n",
    "\n",
    "# Get best parameters and best model\n",
    "best_params = opt.best_params_\n",
    "best_model = opt.best_estimator_\n",
    "\n",
    "print(\"Best Parameters:\", best_params)\n",
    "print(\"Best Model:\", best_model)"
   ]
  },
  {
   "cell_type": "code",
   "execution_count": 13,
   "id": "4a4cf0aa",
   "metadata": {},
   "outputs": [
    {
     "name": "stdout",
     "output_type": "stream",
     "text": [
      "[LightGBM] [Info] Auto-choosing col-wise multi-threading, the overhead of testing was 0.092163 seconds.\n",
      "You can set `force_col_wise=true` to remove the overhead.\n",
      "[LightGBM] [Info] Total Bins 5394\n",
      "[LightGBM] [Info] Number of data points in the train set: 123594, number of used features: 86\n",
      "[LightGBM] [Info] Start training from score -3.152887\n",
      "[LightGBM] [Info] Start training from score -3.287040\n",
      "[LightGBM] [Info] Start training from score -2.057689\n",
      "[LightGBM] [Info] Start training from score -1.784697\n",
      "[LightGBM] [Info] Start training from score -1.562219\n",
      "[LightGBM] [Info] Start training from score -1.677906\n",
      "[LightGBM] [Info] Start training from score -1.939378\n",
      "[LightGBM] [Info] Start training from score -2.475966\n",
      "[LightGBM] [Warning] No further splits with positive gain, best gain: -inf\n",
      "[LightGBM] [Warning] No further splits with positive gain, best gain: -inf\n",
      "[LightGBM] [Warning] No further splits with positive gain, best gain: -inf\n",
      "[LightGBM] [Warning] No further splits with positive gain, best gain: -inf\n",
      "[LightGBM] [Warning] No further splits with positive gain, best gain: -inf\n",
      "[LightGBM] [Warning] No further splits with positive gain, best gain: -inf\n",
      "[LightGBM] [Warning] No further splits with positive gain, best gain: -inf\n",
      "[LightGBM] [Warning] No further splits with positive gain, best gain: -inf\n",
      "[LightGBM] [Warning] No further splits with positive gain, best gain: -inf\n",
      "[LightGBM] [Warning] No further splits with positive gain, best gain: -inf\n",
      "[LightGBM] [Warning] No further splits with positive gain, best gain: -inf\n",
      "[LightGBM] [Warning] No further splits with positive gain, best gain: -inf\n",
      "[LightGBM] [Warning] No further splits with positive gain, best gain: -inf\n",
      "[LightGBM] [Warning] No further splits with positive gain, best gain: -inf\n",
      "[LightGBM] [Warning] No further splits with positive gain, best gain: -inf\n"
     ]
    },
    {
     "data": {
      "text/html": [
       "<style>#sk-container-id-1 {color: black;background-color: white;}#sk-container-id-1 pre{padding: 0;}#sk-container-id-1 div.sk-toggleable {background-color: white;}#sk-container-id-1 label.sk-toggleable__label {cursor: pointer;display: block;width: 100%;margin-bottom: 0;padding: 0.3em;box-sizing: border-box;text-align: center;}#sk-container-id-1 label.sk-toggleable__label-arrow:before {content: \"▸\";float: left;margin-right: 0.25em;color: #696969;}#sk-container-id-1 label.sk-toggleable__label-arrow:hover:before {color: black;}#sk-container-id-1 div.sk-estimator:hover label.sk-toggleable__label-arrow:before {color: black;}#sk-container-id-1 div.sk-toggleable__content {max-height: 0;max-width: 0;overflow: hidden;text-align: left;background-color: #f0f8ff;}#sk-container-id-1 div.sk-toggleable__content pre {margin: 0.2em;color: black;border-radius: 0.25em;background-color: #f0f8ff;}#sk-container-id-1 input.sk-toggleable__control:checked~div.sk-toggleable__content {max-height: 200px;max-width: 100%;overflow: auto;}#sk-container-id-1 input.sk-toggleable__control:checked~label.sk-toggleable__label-arrow:before {content: \"▾\";}#sk-container-id-1 div.sk-estimator input.sk-toggleable__control:checked~label.sk-toggleable__label {background-color: #d4ebff;}#sk-container-id-1 div.sk-label input.sk-toggleable__control:checked~label.sk-toggleable__label {background-color: #d4ebff;}#sk-container-id-1 input.sk-hidden--visually {border: 0;clip: rect(1px 1px 1px 1px);clip: rect(1px, 1px, 1px, 1px);height: 1px;margin: -1px;overflow: hidden;padding: 0;position: absolute;width: 1px;}#sk-container-id-1 div.sk-estimator {font-family: monospace;background-color: #f0f8ff;border: 1px dotted black;border-radius: 0.25em;box-sizing: border-box;margin-bottom: 0.5em;}#sk-container-id-1 div.sk-estimator:hover {background-color: #d4ebff;}#sk-container-id-1 div.sk-parallel-item::after {content: \"\";width: 100%;border-bottom: 1px solid gray;flex-grow: 1;}#sk-container-id-1 div.sk-label:hover label.sk-toggleable__label {background-color: #d4ebff;}#sk-container-id-1 div.sk-serial::before {content: \"\";position: absolute;border-left: 1px solid gray;box-sizing: border-box;top: 0;bottom: 0;left: 50%;z-index: 0;}#sk-container-id-1 div.sk-serial {display: flex;flex-direction: column;align-items: center;background-color: white;padding-right: 0.2em;padding-left: 0.2em;position: relative;}#sk-container-id-1 div.sk-item {position: relative;z-index: 1;}#sk-container-id-1 div.sk-parallel {display: flex;align-items: stretch;justify-content: center;background-color: white;position: relative;}#sk-container-id-1 div.sk-item::before, #sk-container-id-1 div.sk-parallel-item::before {content: \"\";position: absolute;border-left: 1px solid gray;box-sizing: border-box;top: 0;bottom: 0;left: 50%;z-index: -1;}#sk-container-id-1 div.sk-parallel-item {display: flex;flex-direction: column;z-index: 1;position: relative;background-color: white;}#sk-container-id-1 div.sk-parallel-item:first-child::after {align-self: flex-end;width: 50%;}#sk-container-id-1 div.sk-parallel-item:last-child::after {align-self: flex-start;width: 50%;}#sk-container-id-1 div.sk-parallel-item:only-child::after {width: 0;}#sk-container-id-1 div.sk-dashed-wrapped {border: 1px dashed gray;margin: 0 0.4em 0.5em 0.4em;box-sizing: border-box;padding-bottom: 0.4em;background-color: white;}#sk-container-id-1 div.sk-label label {font-family: monospace;font-weight: bold;display: inline-block;line-height: 1.2em;}#sk-container-id-1 div.sk-label-container {text-align: center;}#sk-container-id-1 div.sk-container {/* jupyter's `normalize.less` sets `[hidden] { display: none; }` but bootstrap.min.css set `[hidden] { display: none !important; }` so we also need the `!important` here to be able to override the default hidden behavior on the sphinx rendered scikit-learn.org. See: https://github.com/scikit-learn/scikit-learn/issues/21755 */display: inline-block !important;position: relative;}#sk-container-id-1 div.sk-text-repr-fallback {display: none;}</style><div id=\"sk-container-id-1\" class=\"sk-top-container\"><div class=\"sk-text-repr-fallback\"><pre>LGBMClassifier(colsample_bytree=0.6142700250065638,\n",
       "               learning_rate=0.09508495966850976, max_depth=7,\n",
       "               min_child_samples=7, n_estimators=193, num_leaves=30,\n",
       "               reg_alpha=0.6244710060826602, reg_lambda=0.8948629806624643,\n",
       "               subsample=0.9609173383789583)</pre><b>In a Jupyter environment, please rerun this cell to show the HTML representation or trust the notebook. <br />On GitHub, the HTML representation is unable to render, please try loading this page with nbviewer.org.</b></div><div class=\"sk-container\" hidden><div class=\"sk-item\"><div class=\"sk-estimator sk-toggleable\"><input class=\"sk-toggleable__control sk-hidden--visually\" id=\"sk-estimator-id-1\" type=\"checkbox\" checked><label for=\"sk-estimator-id-1\" class=\"sk-toggleable__label sk-toggleable__label-arrow\">LGBMClassifier</label><div class=\"sk-toggleable__content\"><pre>LGBMClassifier(colsample_bytree=0.6142700250065638,\n",
       "               learning_rate=0.09508495966850976, max_depth=7,\n",
       "               min_child_samples=7, n_estimators=193, num_leaves=30,\n",
       "               reg_alpha=0.6244710060826602, reg_lambda=0.8948629806624643,\n",
       "               subsample=0.9609173383789583)</pre></div></div></div></div></div>"
      ],
      "text/plain": [
       "LGBMClassifier(colsample_bytree=0.6142700250065638,\n",
       "               learning_rate=0.09508495966850976, max_depth=7,\n",
       "               min_child_samples=7, n_estimators=193, num_leaves=30,\n",
       "               reg_alpha=0.6244710060826602, reg_lambda=0.8948629806624643,\n",
       "               subsample=0.9609173383789583)"
      ]
     },
     "execution_count": 13,
     "metadata": {},
     "output_type": "execute_result"
    }
   ],
   "source": [
    "lgc=LGBMClassifier(colsample_bytree=0.6142700250065638,\n",
    "               learning_rate=0.09508495966850976, max_depth=7,\n",
    "               min_child_samples=7, n_estimators=193, num_leaves=30,\n",
    "               reg_alpha=0.6244710060826602, reg_lambda=0.8948629806624643,\n",
    "               subsample=0.9609173383789583)\n",
    "lgc.fit(X_train,y_train)"
   ]
  },
  {
   "cell_type": "code",
   "execution_count": 14,
   "id": "8800c982",
   "metadata": {},
   "outputs": [],
   "source": [
    "y_pred=lgc.predict(X_test)"
   ]
  },
  {
   "cell_type": "code",
   "execution_count": 15,
   "id": "4e59cc79",
   "metadata": {},
   "outputs": [
    {
     "name": "stdout",
     "output_type": "stream",
     "text": [
      "              precision    recall  f1-score   support\n",
      "\n",
      "           0       0.90      0.91      0.90      2247\n",
      "           1       0.95      0.94      0.95      1970\n",
      "           2       0.95      0.95      0.95      6810\n",
      "           3       0.94      0.94      0.94      9067\n",
      "           4       0.95      0.94      0.94     10994\n",
      "           5       0.96      0.96      0.96      9956\n",
      "           6       0.97      0.98      0.97      7515\n",
      "           7       0.98      0.99      0.99      4410\n",
      "\n",
      "    accuracy                           0.95     52969\n",
      "   macro avg       0.95      0.95      0.95     52969\n",
      "weighted avg       0.95      0.95      0.95     52969\n",
      "\n"
     ]
    }
   ],
   "source": [
    "from sklearn.metrics import classification_report\n",
    "print(classification_report(y_pred,y_test))"
   ]
  },
  {
   "cell_type": "code",
   "execution_count": 17,
   "id": "b7ca4352",
   "metadata": {},
   "outputs": [
    {
     "data": {
      "text/plain": [
       "['p2p_lgb_cls.joblib']"
      ]
     },
     "execution_count": 17,
     "metadata": {},
     "output_type": "execute_result"
    }
   ],
   "source": [
    "from joblib import dump\n",
    "dump(lgc,'p2p_lgb_cls.joblib')"
   ]
  },
  {
   "cell_type": "code",
   "execution_count": null,
   "id": "001feb85",
   "metadata": {},
   "outputs": [],
   "source": []
  }
 ],
 "metadata": {
  "kernelspec": {
   "display_name": "Python 3 (ipykernel)",
   "language": "python",
   "name": "python3"
  },
  "language_info": {
   "codemirror_mode": {
    "name": "ipython",
    "version": 3
   },
   "file_extension": ".py",
   "mimetype": "text/x-python",
   "name": "python",
   "nbconvert_exporter": "python",
   "pygments_lexer": "ipython3",
   "version": "3.11.5"
  }
 },
 "nbformat": 4,
 "nbformat_minor": 5
}
