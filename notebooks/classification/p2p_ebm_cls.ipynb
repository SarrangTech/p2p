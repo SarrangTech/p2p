{
 "cells": [
  {
   "cell_type": "code",
   "execution_count": 1,
   "id": "c8d231fb",
   "metadata": {},
   "outputs": [],
   "source": [
    "import pandas as pd\n",
    "import seaborn as sns\n",
    "import numpy as np\n",
    "import warnings\n",
    "import matplotlib.pyplot as plt\n",
    "warnings.filterwarnings(\"ignore\")"
   ]
  },
  {
   "cell_type": "code",
   "execution_count": 2,
   "id": "bc9c66fd",
   "metadata": {},
   "outputs": [],
   "source": [
    "df=pd.read_csv(\"C:\\\\Users\\\\Sarrang\\\\p2p\\\\treated.csv\")"
   ]
  },
  {
   "cell_type": "code",
   "execution_count": 3,
   "id": "02d88f7a",
   "metadata": {},
   "outputs": [
    {
     "data": {
      "text/plain": [
       "(176563, 88)"
      ]
     },
     "execution_count": 3,
     "metadata": {},
     "output_type": "execute_result"
    }
   ],
   "source": [
    "df.shape"
   ]
  },
  {
   "cell_type": "code",
   "execution_count": 4,
   "id": "85a90ad6",
   "metadata": {},
   "outputs": [
    {
     "data": {
      "text/plain": [
       "41"
      ]
     },
     "execution_count": 4,
     "metadata": {},
     "output_type": "execute_result"
    }
   ],
   "source": [
    "df.columns.get_loc('Rating')"
   ]
  },
  {
   "cell_type": "code",
   "execution_count": 5,
   "id": "f5e8927a",
   "metadata": {},
   "outputs": [],
   "source": [
    "# want to exclude columns 38 and 41\n",
    "all_columns = list(range(df.shape[1]))\n",
    "\n",
    "# Exclude columns 38 and 41 which are probability of default and rating\n",
    "exclude_columns = [38, 41]\n",
    "included_columns = [col_idx for col_idx in all_columns if col_idx not in exclude_columns]\n",
    "\n",
    "X= df.iloc[:, included_columns]\n",
    "df_idx=df.iloc[:, included_columns]"
   ]
  },
  {
   "cell_type": "markdown",
   "id": "fdee0e53",
   "metadata": {},
   "source": [
    "### experimenting with rating as dependent variable "
   ]
  },
  {
   "cell_type": "code",
   "execution_count": 6,
   "id": "137bf2d8",
   "metadata": {},
   "outputs": [],
   "source": [
    "y=df.iloc[:,41]"
   ]
  },
  {
   "cell_type": "code",
   "execution_count": 7,
   "id": "2055eb53",
   "metadata": {},
   "outputs": [],
   "source": [
    " # excluded 'ProbabilityOfDefault'\n",
    "numerical=['BidsManual',\n",
    " 'AppliedAmount',\n",
    " 'Amount',\n",
    " 'Interest',\n",
    " 'MonthlyPayment',\n",
    " 'OccupationArea',\n",
    " 'HomeOwnershipType',\n",
    " 'IncomeFromPrincipalEmployer',\n",
    " 'IncomeFromPension',\n",
    " 'IncomeFromFamilyAllowance',\n",
    " 'IncomeFromSocialWelfare',\n",
    " 'IncomeFromLeavePay',\n",
    " 'IncomeFromChildSupport',\n",
    " 'IncomeOther',\n",
    " 'IncomeTotal',\n",
    " 'LiabilitiesTotal',\n",
    " 'DebtToIncome',\n",
    " 'FreeCash',\n",
    " 'LossGivenDefault',\n",
    " 'ExpectedReturn',\n",
    " 'PrincipalOverdueBySchedule',\n",
    " 'PrincipalPaymentsMade',\n",
    " 'InterestAndPenaltyPaymentsMade',\n",
    " 'PrincipalBalance',\n",
    " 'InterestAndPenaltyBalance',\n",
    " 'NoOfPreviousLoansBeforeLoan',\n",
    " 'AmountOfPreviousLoansBeforeLoan',\n",
    " 'PreviousEarlyRepaymentsCountBeforeLoan',\n",
    " 'ApplicationSignedHour',\n",
    " 'ApplicationSignedWeekday',\n",
    " 'LanguageCode',\n",
    " 'Age',\n",
    " 'LoanDuration',\n",
    " 'UseOfLoan',\n",
    " 'ExistingLiabilities',\n",
    " 'RefinanceLiabilities',\n",
    " 'MonthlyPaymentDay',\n",
    " 'CreditScoreEsMicroL',\n",
    " 'LoanWaitTime',\n",
    " 'PaymentToLoanDateDiff',\n",
    " 'LoanTerm']"
   ]
  },
  {
   "cell_type": "code",
   "execution_count": 8,
   "id": "17a85630",
   "metadata": {},
   "outputs": [],
   "source": [
    "nloc = []\n",
    "\n",
    "for feature in numerical:\n",
    "    try:\n",
    "        idx = X.columns.get_loc(feature)\n",
    "        nloc.append(idx)\n",
    "    except ValueError:\n",
    "        print(f\"Column '{feature}' not found in X columns.\")\n"
   ]
  },
  {
   "cell_type": "code",
   "execution_count": 9,
   "id": "3fc64405",
   "metadata": {},
   "outputs": [],
   "source": [
    "X=X.values\n",
    "y=y.values"
   ]
  },
  {
   "cell_type": "markdown",
   "id": "8db06a7f",
   "metadata": {
    "colab_type": "text",
    "id": "qb_vcgm3qZKW"
   },
   "source": [
    "## Splitting the dataset into the Training set and Test set"
   ]
  },
  {
   "cell_type": "code",
   "execution_count": 10,
   "id": "aa0b825e",
   "metadata": {
    "colab": {},
    "colab_type": "code",
    "id": "pXgA6CzlqbCl"
   },
   "outputs": [],
   "source": [
    "from sklearn.model_selection import train_test_split\n",
    "X_train, X_test, y_train, y_test = train_test_split(X, y, test_size = 0.3, random_state = 1)"
   ]
  },
  {
   "cell_type": "code",
   "execution_count": 11,
   "id": "bb127a89",
   "metadata": {},
   "outputs": [],
   "source": [
    "from sklearn.preprocessing import PowerTransformer\n",
    "\n",
    "# Initialize PowerTransformer\n",
    "power_transformer = PowerTransformer()\n",
    "\n",
    "# Fit the transformer on training data and transform training data\n",
    "X_train[:, nloc] = power_transformer.fit_transform(X_train[:, nloc])\n",
    "\n",
    "# Transform testing data using the fitted transformer from training data\n",
    "X_test[:, nloc] = power_transformer.transform(X_test[:, nloc])\n"
   ]
  },
  {
   "cell_type": "code",
   "execution_count": null,
   "id": "ac156ce5",
   "metadata": {},
   "outputs": [],
   "source": []
  },
  {
   "cell_type": "code",
   "execution_count": null,
   "id": "f310c474",
   "metadata": {},
   "outputs": [
    {
     "name": "stdout",
     "output_type": "stream",
     "text": [
      "Fitting 3 folds for each of 100 candidates, totalling 300 fits\n"
     ]
    }
   ],
   "source": [
    "from interpret.glassbox import ExplainableBoostingClassifier\n",
    "from sklearn.model_selection import RandomizedSearchCV\n",
    "from scipy.stats import randint, uniform\n",
    "\n",
    "# Define the hyperparameter search space\n",
    "param_dist = {\n",
    "    'max_rounds': randint(50, 200),\n",
    "    'learning_rate': uniform(0.001, 0.1),\n",
    "    'max_bins': randint(50, 255),\n",
    "    'max_interaction_bins': randint(5, 20),\n",
    "    'interactions': randint(5, 20),\n",
    "    'outer_bags': randint(5, 20),\n",
    "    'inner_bags': randint(0, 10),\n",
    "    'random_state': randint(0, 100)\n",
    "}\n",
    "\n",
    "# Instantiate the EBM classifier\n",
    "ebm_classifier = ExplainableBoostingClassifier()\n",
    "\n",
    "# Instantiate RandomizedSearchCV\n",
    "random_search_classifier = RandomizedSearchCV(\n",
    "    estimator=ebm_classifier,\n",
    "    param_distributions=param_dist,\n",
    "    n_iter=100,  # Number of parameter settings that are sampled\n",
    "    scoring='accuracy',  # Scoring metric for classification\n",
    "    cv=3,  # Cross-validation folds\n",
    "    verbose=2,  # Controls the verbosity\n",
    "    n_jobs=-1,  # Use all available processors\n",
    "    random_state=42  # Random seed for reproducibility\n",
    ")\n",
    "\n",
    "# Perform hyperparameter tuning\n",
    "random_search_classifier.fit(X_train, y_train)\n",
    "\n",
    "# Get best parameters and best model\n",
    "best_params_classifier = random_search_classifier.best_params_\n",
    "best_model_classifier = random_search_classifier.best_estimator_\n",
    "\n",
    "print(\"Best Parameters (Classification):\", best_params_classifier)\n",
    "print(\"Best Model (Classification):\", best_model_classifier)"
   ]
  },
  {
   "cell_type": "code",
   "execution_count": null,
   "id": "b3848723",
   "metadata": {},
   "outputs": [],
   "source": [
    "best_model_classifier"
   ]
  },
  {
   "cell_type": "code",
   "execution_count": 19,
   "id": "7868852b",
   "metadata": {},
   "outputs": [
    {
     "data": {
      "text/html": [
       "<style>#sk-container-id-2 {color: black;background-color: white;}#sk-container-id-2 pre{padding: 0;}#sk-container-id-2 div.sk-toggleable {background-color: white;}#sk-container-id-2 label.sk-toggleable__label {cursor: pointer;display: block;width: 100%;margin-bottom: 0;padding: 0.3em;box-sizing: border-box;text-align: center;}#sk-container-id-2 label.sk-toggleable__label-arrow:before {content: \"▸\";float: left;margin-right: 0.25em;color: #696969;}#sk-container-id-2 label.sk-toggleable__label-arrow:hover:before {color: black;}#sk-container-id-2 div.sk-estimator:hover label.sk-toggleable__label-arrow:before {color: black;}#sk-container-id-2 div.sk-toggleable__content {max-height: 0;max-width: 0;overflow: hidden;text-align: left;background-color: #f0f8ff;}#sk-container-id-2 div.sk-toggleable__content pre {margin: 0.2em;color: black;border-radius: 0.25em;background-color: #f0f8ff;}#sk-container-id-2 input.sk-toggleable__control:checked~div.sk-toggleable__content {max-height: 200px;max-width: 100%;overflow: auto;}#sk-container-id-2 input.sk-toggleable__control:checked~label.sk-toggleable__label-arrow:before {content: \"▾\";}#sk-container-id-2 div.sk-estimator input.sk-toggleable__control:checked~label.sk-toggleable__label {background-color: #d4ebff;}#sk-container-id-2 div.sk-label input.sk-toggleable__control:checked~label.sk-toggleable__label {background-color: #d4ebff;}#sk-container-id-2 input.sk-hidden--visually {border: 0;clip: rect(1px 1px 1px 1px);clip: rect(1px, 1px, 1px, 1px);height: 1px;margin: -1px;overflow: hidden;padding: 0;position: absolute;width: 1px;}#sk-container-id-2 div.sk-estimator {font-family: monospace;background-color: #f0f8ff;border: 1px dotted black;border-radius: 0.25em;box-sizing: border-box;margin-bottom: 0.5em;}#sk-container-id-2 div.sk-estimator:hover {background-color: #d4ebff;}#sk-container-id-2 div.sk-parallel-item::after {content: \"\";width: 100%;border-bottom: 1px solid gray;flex-grow: 1;}#sk-container-id-2 div.sk-label:hover label.sk-toggleable__label {background-color: #d4ebff;}#sk-container-id-2 div.sk-serial::before {content: \"\";position: absolute;border-left: 1px solid gray;box-sizing: border-box;top: 0;bottom: 0;left: 50%;z-index: 0;}#sk-container-id-2 div.sk-serial {display: flex;flex-direction: column;align-items: center;background-color: white;padding-right: 0.2em;padding-left: 0.2em;position: relative;}#sk-container-id-2 div.sk-item {position: relative;z-index: 1;}#sk-container-id-2 div.sk-parallel {display: flex;align-items: stretch;justify-content: center;background-color: white;position: relative;}#sk-container-id-2 div.sk-item::before, #sk-container-id-2 div.sk-parallel-item::before {content: \"\";position: absolute;border-left: 1px solid gray;box-sizing: border-box;top: 0;bottom: 0;left: 50%;z-index: -1;}#sk-container-id-2 div.sk-parallel-item {display: flex;flex-direction: column;z-index: 1;position: relative;background-color: white;}#sk-container-id-2 div.sk-parallel-item:first-child::after {align-self: flex-end;width: 50%;}#sk-container-id-2 div.sk-parallel-item:last-child::after {align-self: flex-start;width: 50%;}#sk-container-id-2 div.sk-parallel-item:only-child::after {width: 0;}#sk-container-id-2 div.sk-dashed-wrapped {border: 1px dashed gray;margin: 0 0.4em 0.5em 0.4em;box-sizing: border-box;padding-bottom: 0.4em;background-color: white;}#sk-container-id-2 div.sk-label label {font-family: monospace;font-weight: bold;display: inline-block;line-height: 1.2em;}#sk-container-id-2 div.sk-label-container {text-align: center;}#sk-container-id-2 div.sk-container {/* jupyter's `normalize.less` sets `[hidden] { display: none; }` but bootstrap.min.css set `[hidden] { display: none !important; }` so we also need the `!important` here to be able to override the default hidden behavior on the sphinx rendered scikit-learn.org. See: https://github.com/scikit-learn/scikit-learn/issues/21755 */display: inline-block !important;position: relative;}#sk-container-id-2 div.sk-text-repr-fallback {display: none;}</style><div id=\"sk-container-id-2\" class=\"sk-top-container\"><div class=\"sk-text-repr-fallback\"><pre>ExplainableBoostingRegressor()</pre><b>In a Jupyter environment, please rerun this cell to show the HTML representation or trust the notebook. <br />On GitHub, the HTML representation is unable to render, please try loading this page with nbviewer.org.</b></div><div class=\"sk-container\" hidden><div class=\"sk-item\"><div class=\"sk-estimator sk-toggleable\"><input class=\"sk-toggleable__control sk-hidden--visually\" id=\"sk-estimator-id-2\" type=\"checkbox\" checked><label for=\"sk-estimator-id-2\" class=\"sk-toggleable__label sk-toggleable__label-arrow\">ExplainableBoostingRegressor</label><div class=\"sk-toggleable__content\"><pre>ExplainableBoostingRegressor()</pre></div></div></div></div></div>"
      ],
      "text/plain": [
       "ExplainableBoostingRegressor()"
      ]
     },
     "execution_count": 19,
     "metadata": {},
     "output_type": "execute_result"
    }
   ],
   "source": [
    "ebc=ExplainableBoostingClassifier()#ebm with default params is yeilding better results\n",
    "ebc.fit(X_train,y_train)"
   ]
  },
  {
   "cell_type": "code",
   "execution_count": 20,
   "id": "c781a687",
   "metadata": {},
   "outputs": [],
   "source": [
    "y_pred=ebc.predict(X_test)"
   ]
  },
  {
   "cell_type": "code",
   "execution_count": null,
   "id": "4b4a4899",
   "metadata": {},
   "outputs": [],
   "source": [
    "from joblib import dump\n",
    "dump(xgbr,'p2p_ebm_cls.joblib')"
   ]
  }
 ],
 "metadata": {
  "kernelspec": {
   "display_name": "Python 3 (ipykernel)",
   "language": "python",
   "name": "python3"
  },
  "language_info": {
   "codemirror_mode": {
    "name": "ipython",
    "version": 3
   },
   "file_extension": ".py",
   "mimetype": "text/x-python",
   "name": "python",
   "nbconvert_exporter": "python",
   "pygments_lexer": "ipython3",
   "version": "3.11.5"
  }
 },
 "nbformat": 4,
 "nbformat_minor": 5
}
